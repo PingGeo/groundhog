{
 "cells": [
  {
   "cell_type": "markdown",
   "metadata": {},
   "source": [
    "# Demo - Pile base resistance calculation according to De Beer's method\n",
    "\n",
    "A tutorial for the application of De Beer's method is given in this notebook. This notebook can be used to apply to other CPT profiles and possibly make modifications to gain further insight in the data and solutions."
   ]
  },
  {
   "cell_type": "markdown",
   "metadata": {},
   "source": [
    "## Loading Python libraries\n",
    "\n",
    "This notebook makes use of the ```groundhog``` Python library to load and manipulate data, visualise data and execute geotechnical calculations. The installation of these libraries is described in the [groundhog installation guide](http://snakesonabrain.com/docs/groundhog/gettingstarted.html)."
   ]
  },
  {
   "cell_type": "code",
   "execution_count": null,
   "metadata": {},
   "outputs": [],
   "source": [
    "# Import of standard libraries for data manipulation\n",
    "import numpy as np\n",
    "import os\n",
    "from IPython.display import HTML\n",
    "import pandas as pd"
   ]
  },
  {
   "cell_type": "code",
   "execution_count": null,
   "metadata": {},
   "outputs": [],
   "source": [
    "# Import of plotting libraries\n",
    "from plotly import tools\n",
    "import plotly.graph_objs as go\n",
    "import plotly.io as pio\n",
    "import plotly.figure_factory as ff\n",
    "from plotly.colors import DEFAULT_PLOTLY_COLORS\n",
    "from plotly.offline import download_plotlyjs, init_notebook_mode, plot, iplot\n",
    "init_notebook_mode()"
   ]
  },
  {
   "cell_type": "code",
   "execution_count": null,
   "metadata": {},
   "outputs": [],
   "source": [
    "# Import of geotechnical libraries\n",
    "from groundhog.siteinvestigation.insitutests.pcpt_processing import PCPTProcessing\n",
    "from groundhog.general.soilprofile import SoilProfile"
   ]
  },
  {
   "cell_type": "markdown",
   "metadata": {},
   "source": [
    "The pile base resistance method according to De Beer is routinely applied in Belgian geotechnical practice to determine the base resistance of piles. The methods is based on scaling the results of CPT cone resistance data to the size of the full pile. Due to the increased size of the pile compared to the CPT, it will average out the resistance measured by the cone. Stronger layers will be mobilised more slowly and weaker layers will be <i>felt</i> later by the pile.\n",
    "\n",
    "<img src=\"Images/debeer_scaling.png\" width=500>\n",
    "<br><center><b>Figure 1: Illustration of critical depth differences when scaling from CPT to pile</b></center>"
   ]
  },
  {
   "cell_type": "markdown",
   "metadata": {},
   "source": [
    "## 1. Loading CPT data\n",
    "\n",
    "The CPT data can be loaded from the Excel file ```Koppejan_DeBeer_demo.xlsx```. The data can be visualised. Only cone tip resistance data is available."
   ]
  },
  {
   "cell_type": "code",
   "execution_count": null,
   "metadata": {},
   "outputs": [],
   "source": [
    "cpt = PCPTProcessing(title='De Beer')\n",
    "cpt.load_excel(\"Data/Koppejan_DeBeer_demo.xlsx\")\n",
    "cpt.plot_raw_pcpt(qc_range=(0, 20))"
   ]
  },
  {
   "cell_type": "markdown",
   "metadata": {},
   "source": [
    "## 2. Setting up the base resistance calculation according to De Beer\n",
    "\n",
    "The ```groundhog``` Python library contains a ```DeBeerCalculation``` class which implements the cone resistance correction and averaging methods. When initialising the calculation, the depth values, the cone resistance values and the diameter of the pile need to be provided."
   ]
  },
  {
   "cell_type": "code",
   "execution_count": null,
   "metadata": {},
   "outputs": [],
   "source": [
    "from groundhog.deepfoundations.axialcapacity.debeer import DeBeerCalculation"
   ]
  },
  {
   "cell_type": "code",
   "execution_count": null,
   "metadata": {},
   "outputs": [],
   "source": [
    "calc = DeBeerCalculation(\n",
    "    depth=cpt.data['z [m]'],\n",
    "    qc=cpt.data['qc [MPa]'],\n",
    "    diameter_pile=0.4)"
   ]
  },
  {
   "cell_type": "markdown",
   "metadata": {},
   "source": [
    "De Beer’s method was developed for mechanical cones with data at 0.2m intervals. If data is supplied on a finer grid, the resample_data method needs to be applied, which resamples the data to the desired spacing.\n",
    "\n",
    "In this notebook, you can investigate the effect of different sampling intervals to see the effect on the calculated unit base resistance."
   ]
  },
  {
   "cell_type": "code",
   "execution_count": null,
   "metadata": {},
   "outputs": [],
   "source": [
    "calc.resample_data(spacing=0.2)"
   ]
  },
  {
   "cell_type": "markdown",
   "metadata": {},
   "source": [
    "## 3. Soil layering\n",
    "\n",
    "We need to specify a soil layering to allow the calculation of vertical effective stress and further axial shaft resistance calculations using the methods according to Belgian practice. Note the the soil types are slightly different and need to be specified in according with Table 4 of the paper <i>Design of piles - Belgian practice</i>."
   ]
  },
  {
   "cell_type": "code",
   "execution_count": null,
   "metadata": {},
   "outputs": [],
   "source": [
    "layering = SoilProfile({\n",
    "    \"Depth from [m]\": [0, 2, 8.5],\n",
    "    \"Depth to [m]\": [2, 8.5, 14],\n",
    "    'Soil type': ['Sand', 'Clay', 'Sand']\n",
    "})"
   ]
  },
  {
   "cell_type": "markdown",
   "metadata": {},
   "source": [
    "This soil layering can be attached to the ```DeBeerCalculation``` object."
   ]
  },
  {
   "cell_type": "code",
   "execution_count": null,
   "metadata": {},
   "outputs": [],
   "source": [
    "calc.set_soil_layers(layering)"
   ]
  },
  {
   "cell_type": "markdown",
   "metadata": {},
   "source": [
    "## 4. Base resistance calculation\n",
    "\n",
    "The base resistance calculation is then carried out by simply applying the method calculate_base_resistance on the calculation object. This method performs the three-step CPT averaging procedure with a stress correction, diameter correction and upward correction. Optionally, the correction according to Van Impe (which is less conservative) can be applied by setting the boolean ```vanimpecorrection``` to True.\n",
    "\n",
    "The method calculates the based resistance $ q_b $ which can be used for further calculation. Note that the calculation might raise a warning as zero divisions are encountered for very shallow depth (where no $ q_c $ data is available).\n",
    "\n",
    "Not that the complexity of the calculations are hidden inside the routine. The theoretical background of these calculations needs to be known for the geotechnics course. "
   ]
  },
  {
   "cell_type": "code",
   "execution_count": null,
   "metadata": {},
   "outputs": [],
   "source": [
    "calc.calculate_base_resistance()"
   ]
  },
  {
   "cell_type": "markdown",
   "metadata": {},
   "source": [
    "The $ q_b $ trace can be plotted."
   ]
  },
  {
   "cell_type": "code",
   "execution_count": null,
   "metadata": {},
   "outputs": [],
   "source": [
    "# Plot the cone resistance trace\n",
    "cptfig = cpt.plot_properties(\n",
    "    prop_keys=[('qc [MPa]', ), ],\n",
    "    plot_ranges=((0, 20),),\n",
    "    plot_ticks=(5, ),\n",
    "    axis_titles=(r'$ q_c \\ \\text{[MPa]} $', ), plot_width=500, return_fig=True)"
   ]
  },
  {
   "cell_type": "code",
   "execution_count": null,
   "metadata": {},
   "outputs": [],
   "source": [
    "traceqb = go.Scatter(x=calc.qb, y=calc.depth_qb,\n",
    "                     showlegend=True, mode='lines',name=r'$ q_{b} $')\n",
    "cptfig.append_trace(traceqb, 1, 1)\n",
    "iplot(cptfig, filename='depthplot', config={'showLink': False})"
   ]
  },
  {
   "cell_type": "markdown",
   "metadata": {},
   "source": [
    "## 5. Base resistance at pile tip\n",
    "\n",
    "The base resistance at the pile tip can be interpolated. This value is lower than the value calculated with Koppejan's method."
   ]
  },
  {
   "cell_type": "code",
   "execution_count": null,
   "metadata": {},
   "outputs": [],
   "source": [
    "HTML(\"\"\"\n",
    "The base resistance at the pile tip = %.2fMPa.\"\"\" % (np.interp(12, calc.depth_qb, calc.qb)))"
   ]
  },
  {
   "cell_type": "code",
   "execution_count": null,
   "metadata": {},
   "outputs": [],
   "source": []
  }
 ],
 "metadata": {
  "hide_input": false,
  "kernelspec": {
   "display_name": "Python 3",
   "language": "python",
   "name": "python3"
  },
  "language_info": {
   "codemirror_mode": {
    "name": "ipython",
    "version": 3
   },
   "file_extension": ".py",
   "mimetype": "text/x-python",
   "name": "python",
   "nbconvert_exporter": "python",
   "pygments_lexer": "ipython3",
   "version": "3.7.6"
  }
 },
 "nbformat": 4,
 "nbformat_minor": 2
}
