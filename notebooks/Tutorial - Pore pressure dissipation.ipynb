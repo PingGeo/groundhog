{
 "cells": [
  {
   "cell_type": "markdown",
   "id": "e16b0648",
   "metadata": {},
   "source": [
    "# Tutorial - Pore pressure dissipation\n",
    "\n",
    "Since v0.8.0, ``groundhog`` includes a finite difference routine to calculate pore pressure dissipation. The class ``ConsolidationCalculation`` contains the necessary functionality and allows for 1-way and 2-way drainage conditions. The coefficient of consolidation can be varied over the analysis depth."
   ]
  },
  {
   "cell_type": "code",
   "execution_count": null,
   "id": "7c382892",
   "metadata": {},
   "outputs": [],
   "source": [
    "from groundhog.consolidation.dissipation.onedimensionalconsolidation import ConsolidationCalculation\n",
    "calc = ConsolidationCalculation(height=1, total_time=1e4, no_nodes=21)\n",
    "calc.set_cv(cv=np.array([0.3, 0.3]), cv_depths=np.array([0, 1]), uniform=False)\n",
    "calc.set_top_boundary(freedrainage=True)\n",
    "calc.set_bottom_boundary(freedrainage=False)\n",
    "calc.set_initial(u0=[100, 100], u0_depths=-[0, 1])\n",
    "calc.set_output_times(output_times=1e4 * np.linspace(0.1, 1, 10))\n",
    "calc.calculate()\n",
    "calc.plot_results(plot_title=r'$ c_v = 0.3m^2/yr $')"
   ]
  }
 ],
 "metadata": {
  "kernelspec": {
   "display_name": "Python 3",
   "language": "python",
   "name": "python3"
  },
  "language_info": {
   "codemirror_mode": {
    "name": "ipython",
    "version": 3
   },
   "file_extension": ".py",
   "mimetype": "text/x-python",
   "name": "python",
   "nbconvert_exporter": "python",
   "pygments_lexer": "ipython3",
   "version": "3.8.8"
  },
  "toc": {
   "base_numbering": 1,
   "nav_menu": {},
   "number_sections": true,
   "sideBar": true,
   "skip_h1_title": true,
   "title_cell": "Table of Contents",
   "title_sidebar": "Contents",
   "toc_cell": false,
   "toc_position": {},
   "toc_section_display": true,
   "toc_window_display": false
  }
 },
 "nbformat": 4,
 "nbformat_minor": 5
}
