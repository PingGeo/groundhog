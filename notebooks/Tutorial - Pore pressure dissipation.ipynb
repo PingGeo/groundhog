{
 "cells": [
  {
   "cell_type": "markdown",
   "metadata": {},
   "source": [
    "# Tutorial - Pore pressure dissipation\n",
    "\n",
    "Since v0.8.0, ``groundhog`` includes a finite difference routine to calculate pore pressure dissipation. \n",
    "\n",
    "The one-dimensional consolidation equation has the following form:\n",
    "\n",
    "$$ \\frac{\\partial u}{\\partial t} = c_v \\frac{\\partial^2 u}{\\partial^2 z} $$ \n",
    "\n",
    "This equation can be solved using two solutions, being Fourier series and finite differences. Both are elaborated in this notebook. The finite difference solution has the advantage of greater flexibility of the input (e.g. variation of $ c_v $ with depth."
   ]
  },
  {
   "cell_type": "markdown",
   "metadata": {},
   "source": [
    "## Solution based on Fourier series\n",
    "\n",
    "The function ``pore_pressure_fourier`` returns the excess pore pressure distribution at the specified depths for a given time. Note that the Fourier series solution only applies for uniform initial excess pore pressure distributions as commonly observed in thin layers. In thick clay layers, where triangular distributions are more common, this solution does not apply. If the stress distribution is irregular, a numerical solution should be applied.\n",
    "\n",
    "As an infinite amount of terms cannot be evaluated, the sum is limited to a number of terms (1000 by default) which should be sufficient for convergence.\n",
    "\n",
    "$$ \\begin{align}\\begin{aligned}\\Delta u (z,t) = \\sum_{m=0}^{\\infty} \\frac{2 \\Delta u_0}{M} \\sin \\left( \\frac{M \\cdot z}{H_{dr}} \\right) \\exp \\left( -M^2 T_v \\right)\\\\M = \\frac{\\pi}{2} \\left( 2m + 1 \\right)\\\\T_v = \\frac{c_v t}{H_{dr}^2}\\end{aligned}\\end{align} $$"
   ]
  },
  {
   "cell_type": "code",
   "execution_count": null,
   "metadata": {},
   "outputs": [],
   "source": [
    "import numpy as np"
   ]
  },
  {
   "cell_type": "code",
   "execution_count": null,
   "metadata": {},
   "outputs": [],
   "source": [
    "from plotly import tools, subplots\n",
    "import plotly.graph_objs as go"
   ]
  },
  {
   "cell_type": "markdown",
   "metadata": {},
   "source": [
    "As an example, the solution with Fourier series can be calculated at the time when the pore pressure increment is applied ($ t $=0) and after 1e5 seconds (for a coefficient of consolidation $ c_v $=10m$^2$/yr).\n",
    "\n",
    "The layer considered is 1m thick and an excess pore pressure of 50kPa is applied."
   ]
  },
  {
   "cell_type": "code",
   "execution_count": null,
   "metadata": {},
   "outputs": [],
   "source": [
    "from groundhog.consolidation.dissipation.onedimensionalconsolidation import pore_pressure_fourier"
   ]
  },
  {
   "cell_type": "code",
   "execution_count": null,
   "metadata": {},
   "outputs": [],
   "source": [
    "fourier_solution_0 = pore_pressure_fourier(\n",
    "    delta_u_0=50, # kPa\n",
    "    depths=np.linspace(0, 1, 100),\n",
    "    time=0, # s\n",
    "    cv=10, # m2/yr\n",
    "    layer_thickness=1 #m\n",
    ")\n",
    "fourier_solution_100000 = pore_pressure_fourier(\n",
    "    delta_u_0=50, # kPa\n",
    "    depths=np.linspace(0, 1, 100),\n",
    "    time=1e5, # s\n",
    "    cv=10, # m2/yr\n",
    "    layer_thickness=1 #m\n",
    ")"
   ]
  },
  {
   "cell_type": "markdown",
   "metadata": {},
   "source": [
    "The two solutions can be visualised. As expected, the excess pore pressure is uniform and equal to the applied excess pore pressure at the start of the analysis. After 1e5 seconds, the excess pore pressure at the center is still at 90% of the initial value. The double drainage condition is clearly visible from the graph."
   ]
  },
  {
   "cell_type": "code",
   "execution_count": null,
   "metadata": {},
   "outputs": [],
   "source": [
    "fig = subplots.make_subplots(rows=1, cols=1, print_grid=False)\n",
    "_data = go.Scatter(x=fourier_solution_0['delta u [kPa]'],\n",
    "                   y=np.linspace(0, 1, 100), showlegend=True, mode='lines',name='t=0s')\n",
    "fig.append_trace(_data, 1, 1)\n",
    "_data = go.Scatter(x=fourier_solution_100000['delta u [kPa]'],\n",
    "                   y=np.linspace(0, 1, 100), showlegend=True, mode='lines',name='t=1e5s')\n",
    "fig.append_trace(_data, 1, 1)\n",
    "fig['layout']['xaxis1'].update(title=r'$ \\Delta u \\ \\text{[kPa]} $')\n",
    "fig['layout']['yaxis1'].update(title=r'$ z \\ \\text{[m]} $')\n",
    "fig['layout'].update(height=500, width=600, title='Fourier series solution')\n",
    "fig.show()"
   ]
  },
  {
   "cell_type": "markdown",
   "metadata": {},
   "source": [
    "## Average degree of consolidation\n",
    "\n",
    "For certain problems, only the average degree of consolidation $ U $ needs to be known. The average degree of consolidation can be visualised as the area between the initial excess pore pressure distribution and the current isochrone.\n",
    "\n",
    "The average degree of consolidation is interpolated from published curves.\n",
    "\n",
    "In ``groundhog``, the function ``consolidation_degree`` contains these curves for uniform and triangular distributions."
   ]
  },
  {
   "cell_type": "code",
   "execution_count": null,
   "metadata": {},
   "outputs": [],
   "source": [
    "from groundhog.consolidation.dissipation.onedimensionalconsolidation import consolidation_degree"
   ]
  },
  {
   "cell_type": "markdown",
   "metadata": {},
   "source": [
    "The average degree of consolidation can be evaluated for both distributions. Note that the drainage length for the triangular distribution is double that for the uniform distribution!"
   ]
  },
  {
   "cell_type": "code",
   "execution_count": null,
   "metadata": {},
   "outputs": [],
   "source": [
    "times = np.logspace(0, 7, 1000)\n",
    "\n",
    "U_uniform = list(map(lambda _t: consolidation_degree(\n",
    "    time=_t, cv=10, drainage_length=0.5)['U [pct]'], times))\n",
    "Tv_uniform = list(map(lambda _t: consolidation_degree(\n",
    "    time=_t, cv=10, drainage_length=0.5)['Tv [-]'], times))\n",
    "U_triangular = list(map(lambda _t: consolidation_degree(\n",
    "    time=_t, cv=10, drainage_length=1, distribution='triangular')['U [pct]'], times))\n",
    "Tv_triangular = list(map(lambda _t: consolidation_degree(\n",
    "    time=_t, cv=10, drainage_length=1, distribution='triangular')['Tv [-]'], times))"
   ]
  },
  {
   "cell_type": "markdown",
   "metadata": {},
   "source": [
    "The results can be visualised, both in terms of time factor $ T_v $ and of absolute time."
   ]
  },
  {
   "cell_type": "code",
   "execution_count": null,
   "metadata": {},
   "outputs": [],
   "source": [
    "fig = subplots.make_subplots(rows=2, cols=1, print_grid=False)\n",
    "_data = go.Scatter(x=Tv_uniform,\n",
    "                   y=U_uniform, showlegend=True, mode='lines',name='Uniform',\n",
    "                   line=dict(color='blue'))\n",
    "fig.append_trace(_data, 1, 1)\n",
    "_data = go.Scatter(x=Tv_triangular,\n",
    "                   y=U_triangular, showlegend=True, mode='lines',name='Triangular',\n",
    "                   line=dict(color='red'))\n",
    "fig.append_trace(_data, 1, 1)\n",
    "_data = go.Scatter(x=times,\n",
    "                   y=U_uniform, showlegend=False, mode='lines',name='Uniform',\n",
    "                   line=dict(color='blue'))\n",
    "fig.append_trace(_data, 2, 1)\n",
    "_data = go.Scatter(x=times,\n",
    "                   y=U_triangular, showlegend=False, mode='lines',name='Triangular',\n",
    "                   line=dict(color='red'))\n",
    "fig.append_trace(_data, 2, 1)\n",
    "fig['layout']['xaxis1'].update(title=r'$ T_v \\ \\text{[-]} $', range=(0, 1.2))\n",
    "fig['layout']['yaxis1'].update(title=r'$ U \\ \\text{[%]} $')\n",
    "fig['layout']['xaxis2'].update(title=r'$ t \\ \\text{[s]} $', range=(0, 4e6))\n",
    "fig['layout']['yaxis2'].update(title=r'$ U \\ \\text{[%]} $')\n",
    "fig['layout'].update(height=600, width=900, title='Average degree of consolidation')\n",
    "fig.show()"
   ]
  },
  {
   "cell_type": "markdown",
   "metadata": {},
   "source": [
    "## Finite difference solution\n",
    "\n",
    "The consolidation equation can be discretised as follows:\n",
    "\n",
    "$$ u_{i,j+1} = u_{i,j} + \\frac{c_v \\Delta t}{( \\Delta z )^2} \\left( u_{i-1,j} - 2 u_{i,j} + u_{i+1,j} \\right) $$\n",
    "\n",
    "At permeable boundaries, the excess pore pressure is 0 ($ u = 0 $). At impervious boundaries, the following boundary condition applies:\n",
    "\n",
    "$$ \\frac{\\partial u}{\\partial z} = 0 = \\frac{1}{2 \\Delta z} \\left( u_{i-1,j} - u_{i+1,j} \\right) = 0$$\n",
    "\n",
    "$$ \\implies u_{i,j+1} = u_{i,j} + \\frac{c_v \\Delta t}{( \\Delta z )^2}  \\left( 2 u_{i-1,j} - 2 u_{i,j} \\right) $$\n",
    "\n",
    "To ensure stability, the timestep needs to be chosen according to the following criterion:\n",
    "\n",
    "$$ \\alpha = \\frac{c_v \\Delta t}{(\\Delta z)^2} < \\frac{1}{2} $$\n",
    "\n",
    "Usually, $ \\alpha = 0.25 $ is used to determine the timestep.\n",
    "\n",
    "The discretisation in space and time is done as follows where the number of timesteps is usually calculated from a chosen node offset:\n",
    "\n",
    "$$ \\Delta z = \\frac{H_0}{m}, \\ \\Delta t = \\frac{t}{n} $$\n",
    "\n",
    "``groundhog`` includes the class ``ConsolidationCalculation`` to perform the pore pressure dissipation analysis."
   ]
  },
  {
   "cell_type": "markdown",
   "metadata": {},
   "source": [
    "### Pore pressure dissipation for double drainage\n",
    "\n",
    "The solution previously developed for Fourier series can be replicated using the finite difference solution:"
   ]
  },
  {
   "cell_type": "code",
   "execution_count": null,
   "metadata": {},
   "outputs": [],
   "source": [
    "from groundhog.consolidation.dissipation.onedimensionalconsolidation import ConsolidationCalculation"
   ]
  },
  {
   "cell_type": "markdown",
   "metadata": {},
   "source": [
    "The calculation is initiated by specifying the height of the layer (1m in this example) and the total duration of the analysis. The number of nodes along the depth axis is also specified.\n",
    "\n",
    "Next, the value of $ c_v $ is set in m$ ^2$/yr.\n",
    "\n",
    "Subsequently, the drainage conditions of top and bottom boundary are specified.\n",
    "\n",
    "The initial excess pore pressure distribution is specified by entering an array with initial excess pore pressure values and the corresponding depths.\n",
    "\n",
    "Finally, the times at which output is stored are specified. A plot can then be generated."
   ]
  },
  {
   "cell_type": "code",
   "execution_count": null,
   "metadata": {},
   "outputs": [],
   "source": [
    "calc = ConsolidationCalculation(height=1, total_time=1e5, no_nodes=51)\n",
    "calc.set_cv(cv=10)\n",
    "calc.set_top_boundary(freedrainage=True)\n",
    "calc.set_bottom_boundary(freedrainage=True)\n",
    "calc.set_initial(u0=[50, 50], u0_depths=[0, 1])\n",
    "calc.set_output_times(output_times=np.array([0, 1e5]))\n",
    "calc.calculate()\n",
    "calc.plot_results(plot_title=r'$ \\text{Uniform - } c_v = 10m^2/yr $')"
   ]
  },
  {
   "cell_type": "markdown",
   "metadata": {},
   "source": [
    "The same solution as for the Fourier series is found."
   ]
  },
  {
   "cell_type": "markdown",
   "metadata": {},
   "source": [
    "### Pore pressure dissipation for top drainage\n",
    "\n",
    "The pore pressure dissipation for an initial triangular stress distribution and an impervious base can also be calculated.\n",
    "\n",
    "Only the bottom drainage condition and the initial excess pore pressure distribution need to be changed."
   ]
  },
  {
   "cell_type": "code",
   "execution_count": null,
   "metadata": {},
   "outputs": [],
   "source": [
    "calc = ConsolidationCalculation(height=1, total_time=1e5, no_nodes=51)\n",
    "calc.set_cv(cv=10)\n",
    "calc.set_top_boundary(freedrainage=True)\n",
    "calc.set_bottom_boundary(freedrainage=False)\n",
    "calc.set_initial(u0=[0, 50], u0_depths=[0, 1])\n",
    "calc.set_output_times(output_times=np.array([0, 1e5]))\n",
    "calc.calculate()\n",
    "calc.plot_results(plot_title=r'$ \\text{Triangular - } c_v = 10m^2/yr $')"
   ]
  },
  {
   "cell_type": "markdown",
   "metadata": {},
   "source": [
    "### Pore pressure dissipation for non-uniform $ c_v $\n",
    "\n",
    "The pore pressure dissipation for double drainage and an uniform initial excess pore pressure distribution but with a much more non-permeable lens inside the sample can be calculated.\n",
    "\n",
    "The specification of $ c_v $ changes to include values of $ c_v $ and their corresponding depths."
   ]
  },
  {
   "cell_type": "code",
   "execution_count": null,
   "metadata": {},
   "outputs": [],
   "source": [
    "from groundhog.consolidation.dissipation.onedimensionalconsolidation import ConsolidationCalculation\n",
    "calc = ConsolidationCalculation(height=1, total_time=1e4, no_nodes=51)\n",
    "calc.set_cv(\n",
    "    cv=np.array([1000, 1000, 10, 10, 1000, 1000]),\n",
    "    cv_depths=np.array([0, 0.4, 0.40000001, 0.59999999, 0.6, 1]), uniform=False)\n",
    "calc.set_top_boundary(freedrainage=True)\n",
    "calc.set_bottom_boundary(freedrainage=True)\n",
    "calc.set_initial(u0=[50, 50], u0_depths=[0, 1])\n",
    "calc.set_output_times(output_times=np.array([0, 1e3, 1e4, 1e5]))\n",
    "calc.calculate()\n",
    "calc.plot_results(plot_title=r'$ \\text{Uniform - Impermeable lens between 0.4 and 0.6m} $')"
   ]
  },
  {
   "cell_type": "code",
   "execution_count": null,
   "metadata": {},
   "outputs": [],
   "source": []
  }
 ],
 "metadata": {
  "hide_input": false,
  "kernelspec": {
   "display_name": "Python 3",
   "language": "python",
   "name": "python3"
  },
  "language_info": {
   "codemirror_mode": {
    "name": "ipython",
    "version": 3
   },
   "file_extension": ".py",
   "mimetype": "text/x-python",
   "name": "python",
   "nbconvert_exporter": "python",
   "pygments_lexer": "ipython3",
   "version": "3.7.6"
  },
  "toc": {
   "base_numbering": 1,
   "nav_menu": {},
   "number_sections": true,
   "sideBar": true,
   "skip_h1_title": true,
   "title_cell": "Table of Contents",
   "title_sidebar": "Contents",
   "toc_cell": false,
   "toc_position": {},
   "toc_section_display": true,
   "toc_window_display": false
  }
 },
 "nbformat": 4,
 "nbformat_minor": 5
}
