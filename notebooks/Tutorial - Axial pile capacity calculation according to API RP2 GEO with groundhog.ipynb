{
 "cells": [
  {
   "cell_type": "markdown",
   "id": "3350cbc5",
   "metadata": {},
   "source": [
    "# Tutorial - Axial pile capacity calculation according to API RP2 GEO with groundhog\n",
    "\n",
    "At the request of users, a routine for axial capacity is developed within groundhog.\n",
    "\n",
    "The pile capacity class ``AxCapCalculation`` develops a workflow in which the unit skin friction methods and unit end bearing methods are introduced into a ``SoilProfile`` object.\n",
    "\n",
    "A check is then performed to assess whether the necessary soil parameters are defined in the ``SoilProfile``. If all necessary parameters are available, a calculation grid is defined and the unit skin friction and unit end bearing calculations are calculated. This notebook outlines the different components of the calculation for the API RP2 GEO Main Text method."
   ]
  },
  {
   "cell_type": "markdown",
   "id": "1331dfbe",
   "metadata": {},
   "source": [
    "## Library imports\n",
    "\n"
   ]
  },
  {
   "cell_type": "code",
   "execution_count": null,
   "id": "e8b4c356",
   "metadata": {},
   "outputs": [],
   "source": [
    "import numpy as np"
   ]
  },
  {
   "cell_type": "code",
   "execution_count": null,
   "id": "fcfb9477",
   "metadata": {},
   "outputs": [],
   "source": [
    "import plotly.io as pio\n",
    "pio.templates.default = 'plotly_white'"
   ]
  },
  {
   "cell_type": "code",
   "execution_count": null,
   "id": "cf85ccf4",
   "metadata": {},
   "outputs": [],
   "source": [
    "from groundhog.general.soilprofile import SoilProfile\n",
    "from groundhog.general.plotting import LogPlot"
   ]
  },
  {
   "cell_type": "markdown",
   "id": "cd260460",
   "metadata": {},
   "source": [
    "## Preparing a ``groundhog`` ``SoilProfile`` object for axial capacity analysis\n",
    "\n",
    "### Definition of methods and soil parameters in ``SoilProfile``\n",
    "\n",
    "For each layer in the ``SoilProfile``, the unit skin friction and unit end bearing need to be set. Each methods has associated required parameters. The presence of these parameters can be checked before starting the calculation.\n",
    "\n",
    "First, a basic soil profile with three layers is defined:"
   ]
  },
  {
   "cell_type": "code",
   "execution_count": null,
   "id": "013b8d0d",
   "metadata": {},
   "outputs": [],
   "source": [
    "sp = SoilProfile({\n",
    "    'Depth from [m]': [0, 5, 10],\n",
    "    'Depth to [m]': [5, 10, 20],\n",
    "    'Soil type': ['SAND', 'CLAY', 'SAND'],\n",
    "    'Total unit weight [kN/m3]': [20, 18, 20]\n",
    "})\n",
    "sp"
   ]
  },
  {
   "cell_type": "markdown",
   "id": "3fa56a06",
   "metadata": {},
   "source": [
    "Next, the calculation methods for unit skin friction and unit end bearing are specified in the columns ``Unit skin friction`` and ``Unit end bearing``."
   ]
  },
  {
   "cell_type": "code",
   "execution_count": null,
   "id": "ea33dae5",
   "metadata": {},
   "outputs": [],
   "source": [
    "sp['Unit skin friction'] = ['API RP2 GEO Sand', 'API RP2 GEO Clay', 'API RP2 GEO Sand']\n",
    "sp['Unit end bearing'] = ['API RP2 GEO Sand', 'API RP2 GEO Clay', 'API RP2 GEO Sand']\n",
    "sp"
   ]
  },
  {
   "cell_type": "markdown",
   "id": "3f017c07",
   "metadata": {},
   "source": [
    "### Overburden calculation\n",
    "\n",
    "As several method require the vertical effective stress as an input, the stresses can be calculated using the ``calculate_overburden`` method."
   ]
  },
  {
   "cell_type": "code",
   "execution_count": null,
   "id": "a9443a8b",
   "metadata": {},
   "outputs": [],
   "source": [
    "sp.calculate_overburden()"
   ]
  },
  {
   "cell_type": "markdown",
   "id": "d44b65f1",
   "metadata": {},
   "source": [
    "The vertical effective stress profile can be plotted:"
   ]
  },
  {
   "cell_type": "code",
   "execution_count": null,
   "id": "e55fda9b",
   "metadata": {
    "scrolled": false
   },
   "outputs": [],
   "source": [
    "stress_plot = LogPlot(sp, no_panels=1, fillcolordict={'SAND': 'yellow', 'CLAY': 'brown'})\n",
    "stress_plot.add_trace(\n",
    "    x=sp.soilparameter_series('Vertical effective stress [kPa]')[1],\n",
    "    z=sp.soilparameter_series('Vertical effective stress [kPa]')[0],\n",
    "    name=r'$ \\sigma_{v0}^{\\prime} $', showlegend=False, panel_no=1)\n",
    "stress_plot.set_xaxis(title=r'$ \\sigma_{v0}^{\\prime} \\ \\text{[kPa]} $', panel_no=1)\n",
    "stress_plot.set_zaxis(title=r'$ z \\ \\text{[m]} $', range=(20, 0))\n",
    "stress_plot.show()"
   ]
  },
  {
   "cell_type": "markdown",
   "id": "c397368e",
   "metadata": {},
   "source": [
    "## Axial pile capacity calculation setup\n",
    "\n",
    "### Creating the calculation object\n",
    "\n",
    "An axial capacity calculation can be set up based on the soil profile. The ``AxcapCalculation`` class contains the necessary functionality."
   ]
  },
  {
   "cell_type": "code",
   "execution_count": null,
   "id": "71817e93",
   "metadata": {},
   "outputs": [],
   "source": [
    "from groundhog.deepfoundations.axialcapacity.axcap import AxCapCalculation"
   ]
  },
  {
   "cell_type": "code",
   "execution_count": null,
   "id": "effc63ab",
   "metadata": {},
   "outputs": [],
   "source": [
    "calc = AxCapCalculation(sp)"
   ]
  },
  {
   "cell_type": "markdown",
   "id": "8b8ef74f",
   "metadata": {},
   "source": [
    "### Checking of presence of require soil parameters\n",
    "\n",
    "The presence of the required input to unit skin friction and unit end bearing calculations can be checked. Note that both numerical and string soil parameters need to be checked:"
   ]
  },
  {
   "cell_type": "code",
   "execution_count": null,
   "id": "d73ca23a",
   "metadata": {},
   "outputs": [],
   "source": [
    "from groundhog.general.parameter_mapping import SOIL_PARAMETER_MAPPING, reverse_dict\n",
    "from groundhog.deepfoundations.axialcapacity.skinfriction import SKINFRICTION_PARAMETERS, SKINFRICTION_METHODS\n",
    "from groundhog.deepfoundations.axialcapacity.endbearing import ENDBEARING_PARAMETERS, ENDBEARING_METHODS"
   ]
  },
  {
   "cell_type": "markdown",
   "id": "9ee1d5d8",
   "metadata": {},
   "source": [
    "``groundhog`` has a standard mapping for soil parameters, which defines the mapping from column headers in a Pandas dataframe to ``groundhog`` function variables. Column headers must conform to this naming."
   ]
  },
  {
   "cell_type": "code",
   "execution_count": null,
   "id": "a56f5299",
   "metadata": {},
   "outputs": [],
   "source": [
    "SOIL_PARAMETER_MAPPING"
   ]
  },
  {
   "cell_type": "markdown",
   "id": "8331fdeb",
   "metadata": {},
   "source": [
    "The necessary parameters for skin friction calculation can be printed. In v0.9.0, only the API RP2 GEO methods are defined with their associated parameters."
   ]
  },
  {
   "cell_type": "code",
   "execution_count": null,
   "id": "a111ba08",
   "metadata": {},
   "outputs": [],
   "source": [
    "SKINFRICTION_PARAMETERS"
   ]
  },
  {
   "cell_type": "markdown",
   "id": "717f454d",
   "metadata": {},
   "source": [
    "With the method ``check_methods``, the presence of the parameters can be checked. At this point, the parameters are not yet defined so the method will return a message that the required parameters are not found."
   ]
  },
  {
   "cell_type": "code",
   "execution_count": null,
   "id": "86c86049",
   "metadata": {},
   "outputs": [],
   "source": [
    "calc.check_methods()"
   ]
  },
  {
   "cell_type": "markdown",
   "id": "101e49ee",
   "metadata": {},
   "source": [
    "The required soil parameters can be defined. Example parameters are defined below. The documentation of the unit skin friction and unit end bearing methods can be checked in the ``groundhog`` documentation."
   ]
  },
  {
   "cell_type": "code",
   "execution_count": null,
   "id": "39f32ae2",
   "metadata": {},
   "outputs": [],
   "source": [
    "calc.sp['API soil description'] = ['Sand-silt', None, 'Sand']\n",
    "calc.sp['API relative density description'] = ['Medium dense', None, 'Dense']\n",
    "calc.sp['Undrained shear strength from [kPa]'] = [np.nan, 100, np.nan]\n",
    "calc.sp['Undrained shear strength to [kPa]'] = [np.nan, 150, np.nan]"
   ]
  },
  {
   "cell_type": "markdown",
   "id": "e48700e3",
   "metadata": {},
   "source": [
    "When re-running the ``check_methods`` no messages are returned. But the attribute ``checked`` is now ``True``."
   ]
  },
  {
   "cell_type": "code",
   "execution_count": null,
   "id": "f9f756b0",
   "metadata": {},
   "outputs": [],
   "source": [
    "calc.check_methods()\n",
    "calc.checked"
   ]
  },
  {
   "cell_type": "markdown",
   "id": "ce721724",
   "metadata": {},
   "source": [
    "## Gridding for axial capacity calculation"
   ]
  },
  {
   "cell_type": "markdown",
   "id": "d9b8b0cf",
   "metadata": {},
   "source": [
    "A calculation grid can be created based on the soil profile with a spacing of 1m."
   ]
  },
  {
   "cell_type": "code",
   "execution_count": null,
   "id": "e47d9074",
   "metadata": {},
   "outputs": [],
   "source": [
    "calc.create_grid(dz=1)"
   ]
  },
  {
   "cell_type": "markdown",
   "id": "628c034c",
   "metadata": {},
   "source": [
    "The grid has a ``nodes`` and ``elements`` attribute where the former contains the nodal coordinates and the associated parameter values at the nodes. The latter contains the element definition with the parameter values at the center of the element."
   ]
  },
  {
   "cell_type": "code",
   "execution_count": null,
   "id": "270d3600",
   "metadata": {},
   "outputs": [],
   "source": [
    "calc.grid.nodes.head()"
   ]
  },
  {
   "cell_type": "code",
   "execution_count": null,
   "id": "9d9b14fa",
   "metadata": {},
   "outputs": [],
   "source": [
    "calc.grid.elements.head()"
   ]
  },
  {
   "cell_type": "markdown",
   "id": "1e0256a4",
   "metadata": {},
   "source": [
    "The parameters in the grid can be prepared for plotting by applying the ``soilparameter_series`` with the name of the parameter under consideration. The x- and z-values can be defined based on the parameter name."
   ]
  },
  {
   "cell_type": "code",
   "execution_count": null,
   "id": "46ba27a5",
   "metadata": {},
   "outputs": [],
   "source": [
    "su_z, su_x = calc.grid.soilparameter_series('Undrained shear strength [kPa]')\n",
    "sigmav_z, sigmav_x = calc.grid.soilparameter_series('Vertical effective stress [kPa]')"
   ]
  },
  {
   "cell_type": "code",
   "execution_count": null,
   "id": "1b510f2e",
   "metadata": {},
   "outputs": [],
   "source": [
    "parameter_plot = LogPlot(calc.sp, no_panels=2, fillcolordict={'SAND': 'yellow', 'CLAY': 'brown'})\n",
    "\n",
    "parameter_plot.add_trace(x=su_x, z=su_z, showlegend=False, mode='lines',name='Su', panel_no=1)\n",
    "parameter_plot.add_trace(x=sigmav_x, z=sigmav_z, showlegend=True, mode='lines',name='With linear', panel_no=2)\n",
    "\n",
    "parameter_plot.set_xaxis(title=r'$ \\sigma_{vo}^{\\prime} \\ \\text{[kPa]} $', panel_no=2, range=(0, sigmav_x.max()))\n",
    "parameter_plot.set_xaxis(title=r'$ S_u \\ \\text{[kPa]} $', panel_no=1, range=(0, 400))\n",
    "parameter_plot.set_zaxis(title=r'$ z \\ \\text{[m]}$')\n",
    "parameter_plot.show()"
   ]
  },
  {
   "cell_type": "markdown",
   "id": "eb44f52f",
   "metadata": {},
   "source": [
    "## Calculation of unit skin friction and unit end bearing\n",
    "\n",
    "Unit skin friction and unit end bearing can be calculated by running the functions for the selected methods at each element.\n",
    "\n",
    "Note that the unit skin friction distribution may be depth-dependent, so at this stage, the pile penetration will need to be introduced.\n",
    "\n",
    "### Setting the pile penetration\n",
    "\n",
    "The pile penetration can be set with the ``set_pilepenetration`` method. In this example, a pile penetration of 18m is selected."
   ]
  },
  {
   "cell_type": "code",
   "execution_count": null,
   "id": "fcfe929a",
   "metadata": {},
   "outputs": [],
   "source": [
    "calc.set_pilepenetration(18)"
   ]
  },
  {
   "cell_type": "code",
   "execution_count": null,
   "id": "8b149da8",
   "metadata": {},
   "outputs": [],
   "source": [
    "calc.grid.nodes.loc[calc.grid.nodes.index[-1], \"z [m]\"] = 20"
   ]
  },
  {
   "cell_type": "code",
   "execution_count": null,
   "id": "6ac9ce9d",
   "metadata": {},
   "outputs": [],
   "source": [
    "calc.grid.nodes.tail()"
   ]
  },
  {
   "cell_type": "markdown",
   "id": "7902fcce",
   "metadata": {},
   "source": [
    "### Calculation of unit skin friction\n",
    "\n",
    "For the calculation of unit skin friction, the equation for the selected method is applied for each element."
   ]
  },
  {
   "cell_type": "code",
   "execution_count": null,
   "id": "ee791aa4",
   "metadata": {},
   "outputs": [],
   "source": [
    "calc.calculate_unitskinfriction()"
   ]
  },
  {
   "cell_type": "markdown",
   "id": "7e80730e",
   "metadata": {},
   "source": [
    "### Calculation of unit end bearing\n",
    "\n",
    "Similarly, the unit end bearing can be calculated:"
   ]
  },
  {
   "cell_type": "code",
   "execution_count": null,
   "id": "824f6a67",
   "metadata": {},
   "outputs": [],
   "source": [
    "calc.calculate_unitendbearing()"
   ]
  },
  {
   "cell_type": "markdown",
   "id": "f7ae776a",
   "metadata": {},
   "source": [
    "### Unit skin friction and unit end bearing visualisation\n",
    "\n",
    "The unit skin friction and unit end bearing profile can be visualised with the ``groundhog`` ``LogPlot``."
   ]
  },
  {
   "cell_type": "code",
   "execution_count": null,
   "id": "725ed781",
   "metadata": {},
   "outputs": [],
   "source": [
    "z_fs, x_fs = calc.output.soilparameter_series('Unit skin friction outside compression [kPa]')\n",
    "z_qb, x_qb = calc.output.soilparameter_series('Unit end bearing plugged [kPa]')\n",
    "\n",
    "fs_qb_plot = LogPlot(calc.output, no_panels=2, fillcolordict={'SAND': 'yellow', 'CLAY': 'brown'})\n",
    "\n",
    "fs_qb_plot.add_trace(x=x_fs, z=z_fs, showlegend=False, mode='lines',name='fs comp', panel_no=1)\n",
    "fs_qb_plot.add_trace(x=x_qb, z=z_qb, showlegend=False, mode='lines',name='qb', panel_no=2)\n",
    "\n",
    "fs_qb_plot.set_xaxis(title=r'$ q_b \\ \\text{[kPa]} $', panel_no=2, range=(0, x_qb.max()))\n",
    "fs_qb_plot.set_xaxis(title=r'$ f_s \\ \\text{[kPa]} $', panel_no=1, range=(0, x_fs.max()))\n",
    "fs_qb_plot.set_zaxis(title=r'$ z \\ \\text{[m]}$')\n",
    "fs_qb_plot.show()"
   ]
  },
  {
   "cell_type": "markdown",
   "id": "a66b3b8d",
   "metadata": {},
   "source": [
    "## Integration of unit skin friction and unit end bearing\n",
    "\n",
    "Unit skin friction can be integrated over the annulus of the pile. Four modes are discerned:\n",
    "\n",
    "   - Plugged compression: Outside skin friction and end bearing over the full diameter of the pile\n",
    "   - Plugged tension: Outside skin friction in tension + weight of the pile material and/or internal soil plug\n",
    "   - Coring compression: Outside skin friction + inside skin friction + annular end bearing\n",
    "   - Coring tension: Outside skin friction in tension + inside skin friction in tension\n",
    "   \n",
    "The pile circumference and base cross-sectional area need to be known. Because pile shapes and sizes may differ, the weight of the pile and/or internal soil plug is excluded from the assessment. Calculating this component with a separate calculation is straightforward.\n",
    "\n",
    "In this example, a tubular open-ended pile with 2.48m outer diameter and 50mm wall thickness is taken."
   ]
  },
  {
   "cell_type": "code",
   "execution_count": null,
   "id": "2adf3931",
   "metadata": {},
   "outputs": [],
   "source": [
    "calc.calculate_pilecapacity(\n",
    "    circumference=np.pi * 2.48, base_area=0.25 * np.pi * 2.48 ** 2,\n",
    "    internal_circumference=np.pi * 2.38, annulus_area=0.25 * np.pi * (2.48 ** 2 - 2.38 ** 2))"
   ]
  },
  {
   "cell_type": "code",
   "execution_count": null,
   "id": "7122bf81",
   "metadata": {},
   "outputs": [],
   "source": [
    "calc.output.tail()"
   ]
  },
  {
   "cell_type": "markdown",
   "id": "ff58f653",
   "metadata": {},
   "source": [
    "### Results for the final penetration\n",
    "\n",
    "As unit skin friction profiles can be penetration-dependent, the plot of unit skin friction $ f_s $ is only valid for the selected final pile penetration.\n",
    "\n",
    "The profiles of unit skin friction $ f_s $, unit end bearing $ q_b $ and integrated shaft resistance in compression and tension over the inside and outside of the pile are plotted as well as the plugged and unplugged (coring) end bearing."
   ]
  },
  {
   "cell_type": "code",
   "execution_count": null,
   "id": "bd41cac1",
   "metadata": {},
   "outputs": [],
   "source": [
    "calc.plot_single_penetration()"
   ]
  },
  {
   "cell_type": "markdown",
   "id": "9e7318b5",
   "metadata": {},
   "source": [
    "Numerical values of the results are available in the ``result`` attribute. These values are valid for the final pile penetration."
   ]
  },
  {
   "cell_type": "code",
   "execution_count": null,
   "id": "16042f03",
   "metadata": {},
   "outputs": [],
   "source": [
    "calc.result"
   ]
  },
  {
   "cell_type": "markdown",
   "id": "54dbe5f2",
   "metadata": {},
   "source": [
    "### Results for all penetrations\n",
    "\n",
    "The calculation of axial pile capacity needs to be repeated for every pile penetration for pile sizing as unit skin friction and unit end bearing can be depth-dependent (e.g. due to friction fatigue)."
   ]
  },
  {
   "cell_type": "code",
   "execution_count": null,
   "id": "71321768",
   "metadata": {},
   "outputs": [],
   "source": [
    "calc.calculate_capacity_profile(\n",
    "    circumference=np.pi * 2.48, base_area=0.25 * np.pi * 2.48 ** 2,\n",
    "    internal_circumference=np.pi * 2.38, annulus_area=0.25 * np.pi * (2.48 ** 2 - 2.38 ** 2),\n",
    "    pile_weight_permeter=0.25 * np.pi * (2.48 ** 2 - 2.38 ** 2) * 68.5,\n",
    "    soilplug_weight_permeter=0.25 * np.pi * 2.38 ** 2 * 10)"
   ]
  },
  {
   "cell_type": "markdown",
   "id": "42f1227b",
   "metadata": {},
   "source": [
    "The results can be visualised. The leftmost panel shows the shaft resistance in compression and tension for plugged (only outside) and coring (inside and outside) conditions. The coring and plugged base resistance are shown in the middle panel. In the right-most panel, the compression and tension resistance for plugged and coring conditions are shown. Depending on the relative magnitude of internal shaft resistance vs end bearing on the plug, the calculation selects whether plugged (internal shaft resistance > end bearing on soil plug) or coring (internal shaft resistance < end bearing on soil plug) conditions are expected."
   ]
  },
  {
   "cell_type": "code",
   "execution_count": null,
   "id": "8e236727",
   "metadata": {},
   "outputs": [],
   "source": [
    "calc.plot_all_penetrations()"
   ]
  },
  {
   "cell_type": "markdown",
   "id": "e6f8aa5b",
   "metadata": {},
   "source": [
    "The results are shown in a dataframe which can be exported to csv or Excel."
   ]
  },
  {
   "cell_type": "code",
   "execution_count": null,
   "id": "d5d753eb",
   "metadata": {},
   "outputs": [],
   "source": [
    "calc.capacity_profile.head()"
   ]
  },
  {
   "cell_type": "code",
   "execution_count": null,
   "id": "5731f3ac",
   "metadata": {},
   "outputs": [],
   "source": []
  }
 ],
 "metadata": {
  "hide_input": false,
  "kernelspec": {
   "display_name": "Python 3 (ipykernel)",
   "language": "python",
   "name": "python3"
  },
  "language_info": {
   "codemirror_mode": {
    "name": "ipython",
    "version": 3
   },
   "file_extension": ".py",
   "mimetype": "text/x-python",
   "name": "python",
   "nbconvert_exporter": "python",
   "pygments_lexer": "ipython3",
   "version": "3.8.15"
  },
  "toc": {
   "base_numbering": 1,
   "nav_menu": {},
   "number_sections": true,
   "sideBar": true,
   "skip_h1_title": true,
   "title_cell": "Table of Contents",
   "title_sidebar": "Contents",
   "toc_cell": false,
   "toc_position": {
    "height": "calc(100% - 180px)",
    "left": "10px",
    "top": "150px",
    "width": "343.825px"
   },
   "toc_section_display": true,
   "toc_window_display": true
  }
 },
 "nbformat": 4,
 "nbformat_minor": 5
}
