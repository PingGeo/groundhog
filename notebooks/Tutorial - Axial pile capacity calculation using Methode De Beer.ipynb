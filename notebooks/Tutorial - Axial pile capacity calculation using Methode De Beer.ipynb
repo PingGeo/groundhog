{
 "cells": [
  {
   "cell_type": "markdown",
   "metadata": {},
   "source": [
    "# Tutorial: Axial pile capacity calculation using Methode De Beer\n",
    "\n",
    "Axial pile capacity according to Eurocode 7 is calculated using the method by De Beer in Belgian geotechnical practice.\n",
    "\n",
    "The current software provided by BGGG-GBMS for calculations according to the base resistance method by De Beer is relatively old and doesn't lend itself to automation. A Python library for application of De Beer's method was developed and is benchmarked against the CPTEX method in this example."
   ]
  },
  {
   "cell_type": "markdown",
   "metadata": {},
   "source": [
    "## 1. Package imports\n",
    "\n",
    "A number of Python packages are imported for data manipulation, printing output in the notebook and interactive plotting (Plotly)."
   ]
  },
  {
   "cell_type": "code",
   "execution_count": null,
   "metadata": {},
   "outputs": [],
   "source": [
    "import numpy as np\n",
    "from IPython.display import HTML\n",
    "import pandas as pd"
   ]
  },
  {
   "cell_type": "code",
   "execution_count": null,
   "metadata": {},
   "outputs": [],
   "source": [
    "import plotly.graph_objs as go\n",
    "from plotly.offline import init_notebook_mode, iplot\n",
    "init_notebook_mode()"
   ]
  },
  {
   "cell_type": "markdown",
   "metadata": {},
   "source": [
    "The actual code for executing the pile calculation according to De Beer is located in the package ```debeer```."
   ]
  },
  {
   "cell_type": "code",
   "execution_count": null,
   "metadata": {},
   "outputs": [],
   "source": [
    "from groundhog.deepfoundations.axialcapacity.debeer import DeBeerCalculation\n",
    "from groundhog.general.soilprofile import SoilProfile"
   ]
  },
  {
   "cell_type": "markdown",
   "metadata": {},
   "source": [
    "## 2. Data reading\n",
    "\n",
    "The CPT data can be read from the CPTEX export using the ```read_csv``` function from Pandas. The calculation will be benchmarked against this data."
   ]
  },
  {
   "cell_type": "code",
   "execution_count": null,
   "metadata": {},
   "outputs": [],
   "source": [
    "df = pd.read_csv(\"Data/Oud-Turnhout II.csv\", delimiter=';', decimal=',')\n",
    "df.head()"
   ]
  },
  {
   "cell_type": "markdown",
   "metadata": {},
   "source": [
    "## 3. Calculation setup\n",
    "\n",
    "A calculation is set up by specifying the depths and corresponding cone tip resistance values as well as the diameter of the pile to be considered. The data is resampled to a 0.2m grid to allow use of De Beer's method using the ```resample_data``` method."
   ]
  },
  {
   "cell_type": "code",
   "execution_count": null,
   "metadata": {},
   "outputs": [],
   "source": [
    "calc = DeBeerCalculation(\n",
    "    depth=df['Diepte[m]'],\n",
    "    qc=df['Conuswaarden[MN/m²]'],\n",
    "    diameter_pile=0.4)\n",
    "calc.resample_data()"
   ]
  },
  {
   "cell_type": "markdown",
   "metadata": {},
   "source": [
    "## 4. Soil layering definition\n",
    "\n",
    "The soil layering is defined based on the CPT data and requires some engineering interpretation (aided by lab tests or more advanced CPT processing). This is beyond the scope of this tutorial. The method ```set_soil_layers``` requires the definition of the top depths and bottom depths of each layer as well as the soil types. Note that the soil types need to be specific names (see detailed documentation). The water level can also be set. "
   ]
  },
  {
   "cell_type": "code",
   "execution_count": null,
   "metadata": {},
   "outputs": [],
   "source": [
    "profile = SoilProfile({\n",
    "    'Depth from [m]': [0, 17.2],\n",
    "    'Depth to [m]': [17.2, 31],\n",
    "    'Soil type': [\"Sand\", \"Clayey sand / loam (silt)\"],\n",
    "})\n",
    "calc.set_soil_layers(\n",
    "    soilprofile=profile,\n",
    "    water_level=5)"
   ]
  },
  {
   "cell_type": "markdown",
   "metadata": {},
   "source": [
    "We can plot the result of the vertical stress calculation:"
   ]
  },
  {
   "cell_type": "code",
   "execution_count": null,
   "metadata": {},
   "outputs": [],
   "source": [
    "fig = calc.layering.plot_profile(\n",
    "    parameters=(\n",
    "        (),\n",
    "        ('Effective vertical stress [kPa]', 'Total vertical stress [kPa]', 'Hydrostatic pressure [kPa]'),),\n",
    "    showlegends=((), (True, True, True),),\n",
    "    xtitles=(r'$ q_c \\ \\text{[MPa]} $',r'$ \\sigma_{vo}, \\ \\sigma_{vo}^{\\prime}, \\ u_0 \\ \\text{[kPa]} $',),\n",
    "    ztitle=r'$ z \\ \\text{[m]} $',\n",
    "    xranges=((0, 50), (0, 600),),\n",
    "    zrange=(31, 0),\n",
    "    fillcolordict={'Sand': 'yellow', 'Clayey sand / loam (silt)': 'orange', 'SILT': 'green', 'ROCK': 'grey'},\n",
    "    showfig=False)\n",
    "\n",
    "qc_data = go.Scatter(x=df['Conuswaarden[MN/m²]'], y=df['Diepte[m]'], showlegend=True, mode='lines',name=r'$ q_c $')\n",
    "fig.append_trace(qc_data, 1, 2)\n",
    "fig['layout'].update(\n",
    "    legend=dict(\n",
    "        orientation='h',\n",
    "        x=0.2,\n",
    "        y=-0.2,\n",
    "        ))\n",
    "iplot(fig, filename='plot', config={'showLink': False})"
   ]
  },
  {
   "cell_type": "markdown",
   "metadata": {},
   "source": [
    "## 5. Base resistance calculation\n",
    "\n",
    "The entire base resistance calculation algorithm is contained in the method ```calculate_base_resistance```. The documentation provides detailed guidance. The algorithm is encoded based on the original publication by De Beer and the benchmark calculations by MOW geotechniek."
   ]
  },
  {
   "cell_type": "code",
   "execution_count": null,
   "metadata": {},
   "outputs": [],
   "source": [
    "calc.calculate_base_resistance()"
   ]
  },
  {
   "cell_type": "markdown",
   "metadata": {},
   "source": [
    "A standardised plot of the base resistance is provided. This plot can be used to draw the comparison between the result from CPTEX and the Python procedure."
   ]
  },
  {
   "cell_type": "code",
   "execution_count": null,
   "metadata": {},
   "outputs": [],
   "source": [
    "calc.plot_base_resistance(show_fig=False)\n",
    "trace_cptex = go.Scatter(\n",
    "    x=df['qb[MN/m²]'], y=df['Diepte[m]'], showlegend=True, mode='lines', name='CPTEX',\n",
    "    line=dict(width=2, color='black', dash='dot'))\n",
    "calc.base_plot.append_trace(trace_cptex, 1, 1)\n",
    "iplot(calc.base_plot, filename='baseplot', config={'showLink': False})"
   ]
  },
  {
   "cell_type": "markdown",
   "metadata": {},
   "source": [
    "## 6. Shaft resistance calculation\n",
    "\n",
    "For the shaft resistance calculation, the cone resistance values are first corrected for the cone type effect. These corrections are applicable for mechanical cones in tertiary clay."
   ]
  },
  {
   "cell_type": "code",
   "execution_count": null,
   "metadata": {},
   "outputs": [],
   "source": [
    "calc.correct_shaft_qc(cone_type='E')"
   ]
  },
  {
   "cell_type": "markdown",
   "metadata": {},
   "source": [
    "The average cone resistance is subsequenty calculated in each layer:"
   ]
  },
  {
   "cell_type": "code",
   "execution_count": null,
   "metadata": {},
   "outputs": [],
   "source": [
    "calc.calculate_average_qc()"
   ]
  },
  {
   "cell_type": "markdown",
   "metadata": {},
   "source": [
    "This is followed by a conversion to unit shaft friction according to the Belgian guidance:"
   ]
  },
  {
   "cell_type": "code",
   "execution_count": null,
   "metadata": {},
   "outputs": [],
   "source": [
    "calc.calculate_unit_shaft_friction()"
   ]
  },
  {
   "cell_type": "markdown",
   "metadata": {},
   "source": [
    "A standardised plot of the averages and the resulting unit shaft friction is provided:"
   ]
  },
  {
   "cell_type": "code",
   "execution_count": null,
   "metadata": {},
   "outputs": [],
   "source": [
    "calc.plot_unit_shaft_friction()"
   ]
  },
  {
   "cell_type": "markdown",
   "metadata": {},
   "source": [
    "## 7. Calculation of shaft, base and total capacity\n",
    "\n",
    "The shaft and base capacity can be calculated using the applicable factors. First the $ \\alpha_s $ and $ \\alpha_b $ factors are set:"
   ]
  },
  {
   "cell_type": "code",
   "execution_count": null,
   "metadata": {},
   "outputs": [],
   "source": [
    "calc.set_shaft_base_factors(\n",
    "    alpha_b_tertiary_clay=1, alpha_b_other=1,\n",
    "    alpha_s_tertiary_clay=0.6, alpha_s_other=0.6)"
   ]
  },
  {
   "cell_type": "markdown",
   "metadata": {},
   "source": [
    "Using this factors, the pile capacity is calculated. Note that the user is still responsible for entering the correct values of the factors."
   ]
  },
  {
   "cell_type": "code",
   "execution_count": null,
   "metadata": {},
   "outputs": [],
   "source": [
    "calc.calculate_pile_resistance(\n",
    "    pile_penetration=12, base_area=0.25 * np.pi * (0.51 ** 2),\n",
    "    circumference=np.pi * 0.51, beta_base=1, lambda_base=1)"
   ]
  },
  {
   "cell_type": "markdown",
   "metadata": {},
   "source": [
    "The resulting values of pile capacity can be printed to the notebook."
   ]
  },
  {
   "cell_type": "code",
   "execution_count": null,
   "metadata": {},
   "outputs": [],
   "source": [
    "HTML(\"\"\"\n",
    "The shaft capacity $ R_s $ = %.1fkN, the base capacity $ R_b $ = %.1fkN, the total capacity $ R_c $ = %.1fkN\"\"\" % (\n",
    "    calc.Rs, calc.Rb, calc.Rc))"
   ]
  },
  {
   "cell_type": "code",
   "execution_count": null,
   "metadata": {},
   "outputs": [],
   "source": []
  }
 ],
 "metadata": {
  "hide_input": false,
  "kernelspec": {
   "display_name": "Python 3",
   "language": "python",
   "name": "python3"
  },
  "language_info": {
   "codemirror_mode": {
    "name": "ipython",
    "version": 3
   },
   "file_extension": ".py",
   "mimetype": "text/x-python",
   "name": "python",
   "nbconvert_exporter": "python",
   "pygments_lexer": "ipython3",
   "version": "3.7.6"
  }
 },
 "nbformat": 4,
 "nbformat_minor": 2
}
