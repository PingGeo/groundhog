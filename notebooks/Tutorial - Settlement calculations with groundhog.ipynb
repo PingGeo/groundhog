{
 "cells": [
  {
   "cell_type": "markdown",
   "metadata": {},
   "source": [
    "# Tutorial - Settlement calculations with ```groundhog```\n",
    "\n",
    "```groundhog``` contains functionality to analyse the settlement of foundations under applied loads. Elastic stress solutions are available for strip foundation, circular foundations and rectangular foundations.\n",
    "\n",
    "Moreover, the basic functionality of ```groundhog``` for working with soil profiles and rapidly deriving correlations can be illustrated in this tutorial.\n",
    "\n",
    "In this example, we will derive the compression index $ C_c $ and the recompression index $ C_r $ based on measured unit weights for a saturated cohesive soil. We will use these values to calculate the primary consolidation settlement beneath a strip footing, circular footing and rectangular footing."
   ]
  },
  {
   "cell_type": "markdown",
   "metadata": {},
   "source": [
    "## Library imports"
   ]
  },
  {
   "cell_type": "code",
   "execution_count": null,
   "metadata": {},
   "outputs": [],
   "source": [
    "import pandas as pd\n",
    "import numpy as np\n",
    "import warnings\n",
    "warnings.filterwarnings('ignore')"
   ]
  },
  {
   "cell_type": "code",
   "execution_count": null,
   "metadata": {},
   "outputs": [],
   "source": [
    "import plotly.graph_objs as go\n",
    "from plotly.offline import init_notebook_mode, iplot\n",
    "init_notebook_mode()"
   ]
  },
  {
   "cell_type": "markdown",
   "metadata": {},
   "source": [
    "## Selection of soil parameters\n",
    "\n",
    "### Loading unit weight data\n",
    "\n",
    "Two data files are provided to specify a distribution of unit weight vs depth. Bulk unit weight $ \\gamma $ has been derived from a volume mass calculation and has also been derived from water content (for a saturated soil) using the following relation:\n",
    "\n",
    "$$ \\gamma = \\left( \\frac{G_s \\cdot (1 + w)}{1 + w \\cdot G_s} \\right) \\cdot \\gamma_w $$"
   ]
  },
  {
   "cell_type": "code",
   "execution_count": null,
   "metadata": {},
   "outputs": [],
   "source": [
    "uw_data = pd.read_excel(\"Data/demo_settlement_uw.xlsx\")"
   ]
  },
  {
   "cell_type": "markdown",
   "metadata": {},
   "source": [
    "We can plot this data vs depth. We can see there is a reasonable amount of scatter in the first 0.5m."
   ]
  },
  {
   "cell_type": "code",
   "execution_count": null,
   "metadata": {},
   "outputs": [],
   "source": [
    "import plotly.express as px\n",
    "fig = px.scatter(uw_data, x='Bulk unit weight [kN/m3]', y='z [m]', color='Method')\n",
    "fig['layout']['xaxis1'].update(title='Bulk unit weight [kN/m3]', side='top', anchor='y', range=(12, 20))\n",
    "fig['layout']['yaxis1'].update(title='Depth below mudline [m]', autorange='reversed')\n",
    "fig.show()"
   ]
  },
  {
   "cell_type": "markdown",
   "metadata": {},
   "source": [
    "### Definition of a soil profile and bulk unit weight selection\n",
    "\n",
    "```groundhog``` allows soil profile manipulations through the ```SoilProfile``` object. We can create a ```SoilProfile``` for soil parameter selection.\n",
    "\n",
    "Initially, we will model a profile with 0.5m thick layers."
   ]
  },
  {
   "cell_type": "code",
   "execution_count": null,
   "metadata": {},
   "outputs": [],
   "source": [
    "from groundhog.general.soilprofile import SoilProfile"
   ]
  },
  {
   "cell_type": "markdown",
   "metadata": {},
   "source": [
    "We can define the soil profile from a Python dictionary containing an array with the depths of the top of each layer, an array with the bottom of each layer and an array with the soil type of each layer."
   ]
  },
  {
   "cell_type": "code",
   "execution_count": null,
   "metadata": {},
   "outputs": [],
   "source": [
    "sp = SoilProfile({\n",
    "    \"Depth from [m]\": [0, 0.5, 1, 1.5, 2, 2.5, 3],\n",
    "    \"Depth to [m]\": [0.5, 1, 1.5, 2, 2.5, 3, 3.5],\n",
    "    \"Soil type\": [\"CLAY\", \"CLAY\", \"CLAY\", \"CLAY\", \"CLAY\", \"CLAY\",\"CLAY\"]\n",
    "})\n",
    "sp"
   ]
  },
  {
   "cell_type": "markdown",
   "metadata": {},
   "source": [
    "The ```SoilProfile``` object has a ```selection_soilparameter``` which allows an automatic first eastimate of soil parameters in a profile. \n",
    "\n",
    "We will make an estimate based on the test data provided. By default, the average trend will be selected."
   ]
  },
  {
   "cell_type": "code",
   "execution_count": null,
   "metadata": {},
   "outputs": [],
   "source": [
    "sp.selection_soilparameter(\n",
    "    'Total unit weight [kN/m3]', depths=uw_data['z [m]'], values=uw_data['Bulk unit weight [kN/m3]'])"
   ]
  },
  {
   "cell_type": "markdown",
   "metadata": {},
   "source": [
    "The selection provided by the software can be used as an initial guess and the engineer can then modify the selected values.\n",
    "\n",
    "The choice of the program looks reasonable in the first layer. However, as this is normally consolidated clay, decreases of unit weight with depth are unlikely. So we will amend the first guess."
   ]
  },
  {
   "cell_type": "code",
   "execution_count": null,
   "metadata": {},
   "outputs": [],
   "source": [
    "uw_fig = sp.plot_profile(\n",
    "    (('Total unit weight [kN/m3]',),),\n",
    "    xranges=((12,20),),\n",
    "    xtitles=('Total unit weight [kN/m3]',),\n",
    "    showfig=False)\n",
    "uw_fig.add_trace(\n",
    "    go.Scatter(x=uw_data['Bulk unit weight [kN/m3]'], y=uw_data['z [m]'], mode='markers', name='data'),\n",
    "    row=1, col=2)\n",
    "uw_fig.show()"
   ]
  },
  {
   "cell_type": "markdown",
   "metadata": {},
   "source": [
    "We can modify the unit weight in the layers. The syntax for this is Pandas syntax. Several tutorials are available online to start working with Pandas. The code below modifies the unit weight in each layer by specifying a new array of unit weights. With every layer, we let the unit weight increase by 0.25kN/m$^3$."
   ]
  },
  {
   "cell_type": "code",
   "execution_count": null,
   "metadata": {},
   "outputs": [],
   "source": [
    "sp['Total unit weight [kN/m3]'] = [16, 16.25, 16.5, 16.75, 17, 17.25, 17.5]"
   ]
  },
  {
   "cell_type": "markdown",
   "metadata": {},
   "source": [
    "We can replot the selection. This shows that this is a reasonable selection."
   ]
  },
  {
   "cell_type": "code",
   "execution_count": null,
   "metadata": {},
   "outputs": [],
   "source": [
    "uw_fig = sp.plot_profile(\n",
    "    (('Total unit weight [kN/m3]',),),\n",
    "    xranges=((12,20),),\n",
    "    xtitles=('Unit weight [kN/m3]',),\n",
    "    showfig=False)\n",
    "uw_fig.add_trace(\n",
    "    go.Scatter(x=uw_data['Bulk unit weight [kN/m3]'], y=uw_data['z [m]'], mode='markers', name='data'),\n",
    "    row=1, col=2)\n",
    "uw_fig.show()"
   ]
  },
  {
   "cell_type": "markdown",
   "metadata": {},
   "source": [
    "### Calculation of overburden pressure\n",
    "\n",
    "Based on the definition of bulk unit weight, the stress distribution vs depth can be plotted. This is done using the method ```calculate_overburden``` of the ```SoilProfile``` object. By default, the waterlevel is at soil surface and the soil is fully saturated.\n",
    "\n",
    "The routine will calculate total vertical stress, vertical effective stress and hydrostatic pressure."
   ]
  },
  {
   "cell_type": "code",
   "execution_count": null,
   "metadata": {},
   "outputs": [],
   "source": [
    "sp.calculate_overburden()\n",
    "sp"
   ]
  },
  {
   "cell_type": "markdown",
   "metadata": {},
   "source": [
    "We can plot the overburden pressure vs depth."
   ]
  },
  {
   "cell_type": "code",
   "execution_count": null,
   "metadata": {},
   "outputs": [],
   "source": [
    "stress_fig = sp.plot_profile(\n",
    "    (('Total unit weight [kN/m3]',),\n",
    "     ('Vertical total stress [kPa]', 'Vertical effective stress [kPa]', 'Hydrostatic pressure [kPa]'),),\n",
    "    showlegends=((False,), (True, True, True)),\n",
    "    xranges=((12,20), (0, 60)),\n",
    "    xtitles=('Unit weight [kN/m3]', 'Vertical stress [kPa]'))"
   ]
  },
  {
   "cell_type": "markdown",
   "metadata": {},
   "source": [
    "### Calculation of initial void ratio and water content\n",
    "\n",
    "The initial void ratio and water content can be derived from the bulk unit weight using the function ```voidratio_bulkunitweight``` in ```groundhog```. This function calculates the void ratio and water content from bulk unit weight for a saturated soil using the following formulae.\n",
    "\n",
    "$$ \\gamma = \\left( \\frac{G_s + S e}{1 + e} \\right) \\gamma_w $$\n",
    "\n",
    "$$ \\implies e = \\frac{\\gamma_w G_s - \\gamma}{\\gamma - S \\gamma_w} $$\n",
    "\n",
    "$$ w = \\frac{S e}{G_s} $$\n",
    "\n",
    "```SoilProfile``` objects in ```groundhog``` have a method ```applyfunction``` which can apply any function to the rows of a soil profile. The parameters of the function are mapped to soil parameters in the dictionary ```parametermapping```.\n",
    "\n",
    "We can apply this function twice, once for the calculation of void ratio (result key ```'e [-]'``` in the result of ```voidratio_bulkunitweight```) and once for the calculation of water content (result key ```'w [-]'``` in the result of ```voidratio_bulkunitweight```).\n",
    "\n",
    "We can print the resulting soil profile to the notebook."
   ]
  },
  {
   "cell_type": "code",
   "execution_count": null,
   "metadata": {},
   "outputs": [],
   "source": [
    "from groundhog.siteinvestigation.classification.phaserelations import voidratio_bulkunitweight"
   ]
  },
  {
   "cell_type": "code",
   "execution_count": null,
   "metadata": {},
   "outputs": [],
   "source": [
    "sp.applyfunction(\n",
    "    function=voidratio_bulkunitweight,\n",
    "    outputkey=\"Void ratio [-]\", resultkey=\"e [-]\",\n",
    "    parametermapping={\n",
    "        'bulkunitweight': \"Total unit weight [kN/m3]\"\n",
    "    })\n",
    "sp.applyfunction(\n",
    "    function=voidratio_bulkunitweight,\n",
    "    outputkey=\"Water content [-]\", resultkey=\"w [-]\",\n",
    "    parametermapping={\n",
    "        'bulkunitweight': \"Total unit weight [kN/m3]\"\n",
    "    })\n",
    "sp"
   ]
  },
  {
   "cell_type": "markdown",
   "metadata": {},
   "source": [
    "The initial void ratio is required to calculate the settlements."
   ]
  },
  {
   "cell_type": "markdown",
   "metadata": {},
   "source": [
    "### Selection of $ C_c $ and $ C_r $\n",
    "\n",
    "The compression index $ C_c $ and recompression index $ C_r $ describe the slope of the virgin compression line and the recompression line respectively in $ e - \\log_{10} ( \\sigma_v^{\\prime} ) $ space:\n",
    "\n",
    "$$ C_c = - \\frac{e_2 - e_1}{\\log_{10} \\left( \\frac{\\sigma^{\\prime}_{v,2}}{\\sigma^{\\prime}_{v,1}} \\right)} \\quad \\text{Virgin compression line} \\\\ C_r = - \\frac{e_2 - e_1}{\\log_{10} \\left( \\frac{\\sigma^{\\prime}_{v,2}}{\\sigma^{\\prime}_{v,1}} \\right)} \\quad \\text{Recompression line}\n",
    "$$\n",
    "\n",
    "Several correlations exist which correlate the compression and recompression indices with water content, void ratio, ...\n",
    "\n",
    "```groundhog``` implements the correlation ```compressionindex_watercontent_koppula``` which is based on a study by Koppula (1981) which found a direct relation between the compression index $ C_c $ and the natural water content $ w $. The compression index is between 5 and 10 times higher than the recompression index $ C_r $. Here, we assume a ratio of 7.5 between both indices.\n",
    "\n",
    "We can again determine the indices using the ```applyfunction``` method on the ```SoilProfile``` object."
   ]
  },
  {
   "cell_type": "code",
   "execution_count": null,
   "metadata": {},
   "outputs": [],
   "source": [
    "from groundhog.siteinvestigation.correlations.cohesive import compressionindex_watercontent_koppula"
   ]
  },
  {
   "cell_type": "code",
   "execution_count": null,
   "metadata": {},
   "outputs": [],
   "source": [
    "sp.applyfunction(\n",
    "    function=compressionindex_watercontent_koppula,\n",
    "    outputkey=\"Cc [-]\", resultkey=\"Cc [-]\",\n",
    "    parametermapping={\n",
    "        'water_content': \"Water content [-]\"\n",
    "    })\n",
    "sp.applyfunction(\n",
    "    function=compressionindex_watercontent_koppula,\n",
    "    outputkey=\"Cr [-]\", resultkey=\"Cr [-]\",\n",
    "    parametermapping={\n",
    "        'water_content': \"Water content [-]\"\n",
    "    })\n",
    "sp"
   ]
  },
  {
   "cell_type": "markdown",
   "metadata": {},
   "source": [
    "Note that this choice of indices should be benchmarked against or replaced by values obtained from oedometer tests."
   ]
  },
  {
   "cell_type": "markdown",
   "metadata": {},
   "source": [
    "## Calculation of vertical effective stress increases\n",
    "\n",
    "The vertical effective stress increases for elastic halfspaces can be obtained using the formulae derived by Boussinesq.\n",
    "\n",
    "```groundhog``` implements the calculation of vertical effective stress increases below strip footings, the center of circular footings and the corner of a rectangular footing. The module ```groundhog.shallowfoundations.stressdistribution``` contains the necessary functions."
   ]
  },
  {
   "cell_type": "code",
   "execution_count": null,
   "metadata": {},
   "outputs": [],
   "source": [
    "from groundhog.shallowfoundations.stressdistribution import stresses_stripload, stresses_circle, stresses_rectangle"
   ]
  },
  {
   "cell_type": "markdown",
   "metadata": {},
   "source": [
    "### Illustration of stress increase functions\n",
    "\n",
    "We can calculate the stresses below each of the foundations using the relevant functions. To illustrate the functions, we will first use a separate soil profile with a fine grid.\n",
    "\n",
    "Note that NumPy sometimes uses number approximations (e.g. 0.099999999 instead of 0.1) which could cause the layer continuity check to fail. For this reason, we round the NumPy arrays.\n",
    "\n",
    "The code below creates a soilprofile with 0.01m thick layers."
   ]
  },
  {
   "cell_type": "code",
   "execution_count": null,
   "metadata": {},
   "outputs": [],
   "source": [
    "sp_fine = SoilProfile({\n",
    "    \"Depth from [m]\": np.round(np.linspace(0, 2.99, 300), 2),\n",
    "    \"Depth to [m]\": np.round(np.linspace(0.01, 3, 300), 2)\n",
    "})"
   ]
  },
  {
   "cell_type": "markdown",
   "metadata": {},
   "source": [
    "For the application of the stress formulae, we need to define the depth at the layer center. The ```SoilProfile``` object has a method ```calculate_center``` which does this and adds a column ```Depth center [m]``` to the soil profile."
   ]
  },
  {
   "cell_type": "code",
   "execution_count": null,
   "metadata": {},
   "outputs": [],
   "source": [
    "sp_fine.calculate_center()\n",
    "sp_fine.head()"
   ]
  },
  {
   "cell_type": "markdown",
   "metadata": {},
   "source": [
    "We can now calculate the vertical effective stress for each of the cases using the ```applyfunction``` method. The documentation of ```groundhog``` contains all information on the Boussinesq functions.\n",
    "\n",
    "We will calculate the stress increase below:\n",
    "\n",
    "   - The center of a 0.5m wide strip footing (superposition stress increase below corner of 2 x 0.25m strip footings)\n",
    "   - The center of a circular footing with a diameter of 0.5m\n",
    "   - The center of a square footing width 0.5m long edges (superposition of stress increase below the corner of 4 x square footing with 0.125m edges"
   ]
  },
  {
   "cell_type": "code",
   "execution_count": null,
   "metadata": {},
   "outputs": [],
   "source": [
    "sp_fine.applyfunction(\n",
    "    function=stresses_stripload,\n",
    "    outputkey=\"delta sigma z half strip [kPa]\", resultkey=\"delta sigma z [kPa]\",\n",
    "    parametermapping={\n",
    "        'z': \"Depth center [m]\"\n",
    "    },\n",
    "    x=0.25,\n",
    "    width=0.25,\n",
    "    imposedforce=10)\n",
    "sp_fine[\"delta sigma z strip [kPa]\"] = 2 * sp_fine[\"delta sigma z half strip [kPa]\"]\n",
    "sp_fine.applyfunction(\n",
    "    function=stresses_circle,\n",
    "    outputkey=\"delta sigma z circle [kPa]\", resultkey=\"delta sigma z [kPa]\",\n",
    "    parametermapping={\n",
    "        'z': \"Depth center [m]\"\n",
    "    },\n",
    "    footing_radius=0.25,\n",
    "    imposedstress=10,\n",
    "    poissonsratio=0.495)\n",
    "sp_fine.applyfunction(\n",
    "    function=stresses_rectangle,\n",
    "    outputkey=\"delta sigma z quarter rectangle [kPa]\", resultkey=\"delta sigma z [kPa]\",\n",
    "    parametermapping={\n",
    "        'z': \"Depth center [m]\"\n",
    "    },\n",
    "    imposedstress=10,\n",
    "    length=0.125,\n",
    "    width=0.125)\n",
    "sp_fine[\"delta sigma z rectangle [kPa]\"] = 4 * sp_fine[\"delta sigma z quarter rectangle [kPa]\"]"
   ]
  },
  {
   "cell_type": "markdown",
   "metadata": {},
   "source": [
    "We can plot these stresses vs depth:"
   ]
  },
  {
   "cell_type": "code",
   "execution_count": null,
   "metadata": {},
   "outputs": [],
   "source": [
    "stressfig = go.Figure()\n",
    "stressfig.add_trace(\n",
    "    go.Scatter(x=sp_fine['delta sigma z strip [kPa]'],\n",
    "               y=sp_fine['Depth center [m]'], mode='lines', name='Strip'))\n",
    "stressfig.add_trace(\n",
    "    go.Scatter(x=sp_fine['delta sigma z circle [kPa]'],\n",
    "               y=sp_fine['Depth center [m]'], mode='lines', name='Circle'))\n",
    "stressfig.add_trace(\n",
    "    go.Scatter(x=sp_fine['delta sigma z rectangle [kPa]'],\n",
    "               y=sp_fine['Depth center [m]'], mode='lines', name='Rectangle'))\n",
    "stressfig['layout']['xaxis1'].update(title='Stress increase [kPa]')\n",
    "stressfig['layout']['yaxis1'].update(title='Depth [m]', autorange='reversed')\n",
    "stressfig.show()"
   ]
  },
  {
   "cell_type": "markdown",
   "metadata": {},
   "source": [
    "### Application of stress increase functions\n",
    "\n",
    "We can now apply these functions to the soil profile we had already established. We will calculate the vertical stress increase at the center of each layer.\n",
    "\n",
    "We will also calculate the layer thickness using the ```calculate_layerthickness``` method."
   ]
  },
  {
   "cell_type": "code",
   "execution_count": null,
   "metadata": {},
   "outputs": [],
   "source": [
    "sp.calculate_center()\n",
    "sp.calculate_layerthickness()"
   ]
  },
  {
   "cell_type": "code",
   "execution_count": null,
   "metadata": {},
   "outputs": [],
   "source": [
    "sp.applyfunction(\n",
    "    function=stresses_stripload,\n",
    "    outputkey=\"delta sigma z half strip [kPa]\", resultkey=\"delta sigma z [kPa]\",\n",
    "    parametermapping={\n",
    "        'z': \"Depth center [m]\"\n",
    "    },\n",
    "    x=0.25,\n",
    "    width=0.25,\n",
    "    imposedforce=10)\n",
    "sp[\"delta sigma z strip [kPa]\"] = 2 * sp[\"delta sigma z half strip [kPa]\"]\n",
    "sp.applyfunction(\n",
    "    function=stresses_circle,\n",
    "    outputkey=\"delta sigma z circle [kPa]\", resultkey=\"delta sigma z [kPa]\",\n",
    "    parametermapping={\n",
    "        'z': \"Depth center [m]\"\n",
    "    },\n",
    "    footing_radius=0.25,\n",
    "    imposedstress=10,\n",
    "    poissonsratio=0.495)\n",
    "sp.applyfunction(\n",
    "    function=stresses_rectangle,\n",
    "    outputkey=\"delta sigma z quarter rectangle [kPa]\", resultkey=\"delta sigma z [kPa]\",\n",
    "    parametermapping={\n",
    "        'z': \"Depth center [m]\"\n",
    "    },\n",
    "    imposedstress=10,\n",
    "    length=0.125,\n",
    "    width=0.125)\n",
    "sp[\"delta sigma z rectangle [kPa]\"] = 4 * sp[\"delta sigma z quarter rectangle [kPa]\"]"
   ]
  },
  {
   "cell_type": "markdown",
   "metadata": {},
   "source": [
    "We can cross-check the calculated stress against the values plotted above. This shows that the stress increase reduces quite rapidly with depth, especially for the rectangular case."
   ]
  },
  {
   "cell_type": "code",
   "execution_count": null,
   "metadata": {},
   "outputs": [],
   "source": [
    "sp"
   ]
  },
  {
   "cell_type": "markdown",
   "metadata": {},
   "source": [
    "## Calculation of settlement\n",
    "\n",
    "The unit weights suggest a normally consolidated soil, we can therefore use the function ```primaryconsolidationsettlement_nc``` to calculate the settlement according to the following formula:\n",
    "\n",
    "$$ \\Delta z = \\frac{H_0}{1 + e_0} C_c \\log_{10} \\frac{\\sigma_{v0}^{\\prime} + \\Delta \\sigma_v^{\\prime}}{\\sigma_{v0}^{\\prime}} $$"
   ]
  },
  {
   "cell_type": "code",
   "execution_count": null,
   "metadata": {},
   "outputs": [],
   "source": [
    "from groundhog.shallowfoundations.settlement import primaryconsolidationsettlement_nc"
   ]
  },
  {
   "cell_type": "markdown",
   "metadata": {},
   "source": [
    "The only remaining operation before we can apply the formula is to calculate the initial vertical effective stress at the center of the layer. We can do this by averaging the vertical effective stress at top and bottom of the layer using the ```calculate_parameter_center``` method using ```Effective vertical stress [kPa]``` as the parameter."
   ]
  },
  {
   "cell_type": "code",
   "execution_count": null,
   "metadata": {},
   "outputs": [],
   "source": [
    "sp.calculate_parameter_center(\"Vertical effective stress [kPa]\")"
   ]
  },
  {
   "cell_type": "markdown",
   "metadata": {},
   "source": [
    "We can now calculate the settlement in each layer using the ```applyfunction``` method with the correct column mappings for strip, circular and rectangular footing."
   ]
  },
  {
   "cell_type": "code",
   "execution_count": null,
   "metadata": {},
   "outputs": [],
   "source": [
    "sp.applyfunction(\n",
    "    function=primaryconsolidationsettlement_nc,\n",
    "    outputkey=\"delta z strip [m]\", resultkey=\"delta z [m]\",\n",
    "    parametermapping={\n",
    "        'initial_height': \"Layer thickness [m]\",\n",
    "        'initial_voidratio': \"Void ratio [-]\",\n",
    "        \"initial_effective_stress\": \"Vertical effective stress center [kPa]\",\n",
    "        \"effective_stress_increase\": \"delta sigma z strip [kPa]\",\n",
    "        \"compression_index\": \"Cc [-]\"\n",
    "    })\n",
    "sp.applyfunction(\n",
    "    function=primaryconsolidationsettlement_nc,\n",
    "    outputkey=\"delta z circle [m]\", resultkey=\"delta z [m]\",\n",
    "    parametermapping={\n",
    "        'initial_height': \"Layer thickness [m]\",\n",
    "        'initial_voidratio': \"Void ratio [-]\",\n",
    "        \"initial_effective_stress\": \"Vertical effective stress center [kPa]\",\n",
    "        \"effective_stress_increase\": \"delta sigma z circle [kPa]\",\n",
    "        \"compression_index\": \"Cc [-]\"\n",
    "    })\n",
    "sp.applyfunction(\n",
    "    function=primaryconsolidationsettlement_nc,\n",
    "    outputkey=\"delta z rectangle [m]\", resultkey=\"delta z [m]\",\n",
    "    parametermapping={\n",
    "        'initial_height': \"Layer thickness [m]\",\n",
    "        'initial_voidratio': \"Void ratio [-]\",\n",
    "        \"initial_effective_stress\": \"Vertical effective stress center [kPa]\",\n",
    "        \"effective_stress_increase\": \"delta sigma z rectangle [kPa]\",\n",
    "        \"compression_index\": \"Cc [-]\"\n",
    "    })\n",
    "sp"
   ]
  },
  {
   "cell_type": "markdown",
   "metadata": {},
   "source": [
    "Finally, the settlement can be obtained as the sum of the settlements over all the layers:"
   ]
  },
  {
   "cell_type": "code",
   "execution_count": null,
   "metadata": {},
   "outputs": [],
   "source": [
    "settlement_strip = sp[\"delta z strip [m]\"].sum()\n",
    "print(\"The settlement under the strip footing is %.3fm.\" % settlement_strip)\n",
    "settlement_circle = sp[\"delta z circle [m]\"].sum()\n",
    "print(\"The settlement under the circular footing is %.3fm.\" % settlement_circle)\n",
    "settlement_rectangle = sp[\"delta z rectangle [m]\"].sum()\n",
    "print(\"The settlement under the square footing is %.3fm.\" % settlement_rectangle)"
   ]
  },
  {
   "cell_type": "markdown",
   "metadata": {},
   "source": [
    "The results show that adopting the calculation for a strip footing would be too conservative when dealing with footings of finite length."
   ]
  },
  {
   "cell_type": "code",
   "execution_count": null,
   "metadata": {},
   "outputs": [],
   "source": []
  }
 ],
 "metadata": {
  "hide_input": false,
  "kernelspec": {
   "display_name": "Python 3",
   "language": "python",
   "name": "python3"
  },
  "language_info": {
   "codemirror_mode": {
    "name": "ipython",
    "version": 3
   },
   "file_extension": ".py",
   "mimetype": "text/x-python",
   "name": "python",
   "nbconvert_exporter": "python",
   "pygments_lexer": "ipython3",
   "version": "3.7.6"
  },
  "toc": {
   "base_numbering": 1,
   "nav_menu": {},
   "number_sections": true,
   "sideBar": true,
   "skip_h1_title": true,
   "title_cell": "Table of Contents",
   "title_sidebar": "Contents",
   "toc_cell": false,
   "toc_position": {},
   "toc_section_display": true,
   "toc_window_display": true
  }
 },
 "nbformat": 4,
 "nbformat_minor": 4
}
